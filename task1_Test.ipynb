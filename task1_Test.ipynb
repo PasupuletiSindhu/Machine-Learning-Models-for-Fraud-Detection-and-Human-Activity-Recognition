{
 "cells": [
  {
   "cell_type": "code",
   "execution_count": 10,
   "id": "356e68e7-3178-433d-88aa-0131bb30d4cd",
   "metadata": {},
   "outputs": [],
   "source": [
    "import numpy as np\n",
    "import pandas as pd\n",
    "import torch\n",
    "from sklearn.metrics import classification_report, accuracy_score, confusion_matrix, precision_score, recall_score, f1_score, make_scorer\n",
    "from sklearn.preprocessing import LabelEncoder\n",
    "import joblib\n",
    "import csv\n",
    "import os\n",
    "os.environ[\"CUDA_VISIBLE_DEVICES\"] = \"1, 16, 25\""
   ]
  },
  {
   "cell_type": "code",
   "execution_count": 2,
   "id": "b00c4d89-e125-4203-a3c4-0b697f01e503",
   "metadata": {},
   "outputs": [
    {
     "name": "stdout",
     "output_type": "stream",
     "text": [
      "GPU available\n"
     ]
    },
    {
     "data": {
      "text/plain": [
       "device(type='cuda')"
      ]
     },
     "execution_count": 2,
     "metadata": {},
     "output_type": "execute_result"
    }
   ],
   "source": [
    "device = torch.device('cuda' if torch.cuda.is_available() else 'cpu')\n",
    "if device.type == \"cuda\":\n",
    "    print('GPU available')\n",
    "else:\n",
    "    print('GPU not available')\n",
    "device"
   ]
  },
  {
   "cell_type": "code",
   "execution_count": 3,
   "id": "0eb9df27-de4f-48d2-9b3f-b1d1170f2c1b",
   "metadata": {},
   "outputs": [],
   "source": [
    "task1_test_set = \"610_ps4_test/testingT1FD/cct_test.csv\"\n",
    "\n",
    "# task1_test_set = \"610_ps4_testing/testingT1FD/cct_test.csv\""
   ]
  },
  {
   "cell_type": "code",
   "execution_count": 4,
   "id": "02104090-7092-44dd-b2b6-406cae5989f8",
   "metadata": {},
   "outputs": [],
   "source": [
    "# CONVERT DEV FILE INTO A DATAFRAME\n",
    "task1_df = pd.read_csv(task1_test_set)\n",
    "\n",
    "# Everything except the last element are features\n",
    "column_names = task1_df.columns\n",
    "label = column_names[-1]\n",
    "X = task1_df.drop(columns=[label])\n",
    "y = task1_df[label] \n",
    "\n",
    "# PREPROCESSING\n",
    "# Convert each categorical column to numerical\n",
    "for col in X.select_dtypes(include=['object']).columns:\n",
    "    # Label encode each string column\n",
    "    le = LabelEncoder()\n",
    "    X[col] = le.fit_transform(X[col])\n",
    "\n",
    "# Hard coded important features\n",
    "# important_features = ['amt', 'trans_time', 'unix_time', 'trans_date', 'category', 'dob', 'profile', 'merch_long', 'trans_num', 'merch_lat', 'merchant', 'city_pop']\n",
    "\n",
    "important_features = ['amt', 'trans_time', 'unix_time', 'trans_date', 'category', 'dob', 'profile']\n",
    "\n",
    "# Get the important feature columns only\n",
    "X_important_features = X[important_features]\n",
    "\n",
    "# change the data structure from pandas to numpy \n",
    "X_numpy_arr = X_important_features.to_numpy()\n",
    "y_test_numpy_arr = y.to_numpy()"
   ]
  },
  {
   "cell_type": "code",
   "execution_count": 5,
   "id": "8071b4f5-35ff-4b18-91e5-2aaf37246943",
   "metadata": {},
   "outputs": [],
   "source": [
    "# Load the saved model\n",
    "# model_name = 'task1_random_forest_model.joblib'\n",
    "model_name = 'task1_important_features_random_forest_rfecv_model.joblib'\n",
    "rf_loaded = joblib.load(model_name)"
   ]
  },
  {
   "cell_type": "code",
   "execution_count": 6,
   "id": "9f1a460b-f886-4a43-b45c-96fea8b9a296",
   "metadata": {},
   "outputs": [
    {
     "name": "stdout",
     "output_type": "stream",
     "text": [
      "Accuracy: 0.9987271834796406\n",
      "Macro average F1 score: 0.9346656535479205\n",
      "f1_score_for_fraud: 0.8699708454810495\n"
     ]
    }
   ],
   "source": [
    " # PREDICT\n",
    "y_pred = rf_loaded.predict(X_numpy_arr)\n",
    "\n",
    "# CALCULATE accuracy, macro f1 score, and f1 score for fraud\n",
    "model_accuracy = accuracy_score(y_test_numpy_arr, y_pred)\n",
    "macro_avg_f1_score = f1_score(y_test_numpy_arr, y_pred, average='macro')\n",
    "f1_score_for_fraud = f1_score(y_test_numpy_arr, y_pred, pos_label=1, average='binary')\n",
    "\n",
    "print(\"Accuracy:\", model_accuracy)\n",
    "print(\"Macro average F1 score:\", macro_avg_f1_score)\n",
    "print(\"f1_score_for_fraud:\", f1_score_for_fraud)"
   ]
  },
  {
   "cell_type": "code",
   "execution_count": 17,
   "id": "a8460767-2aed-4e14-9c80-c28c44c74f04",
   "metadata": {},
   "outputs": [
    {
     "name": "stdout",
     "output_type": "stream",
     "text": [
      "[[174233     26]\n",
      " [   197    746]]\n",
      "              precision    recall  f1-score   support\n",
      "\n",
      "           0       1.00      1.00      1.00    174259\n",
      "           1       0.97      0.79      0.87       943\n",
      "\n",
      "    accuracy                           1.00    175202\n",
      "   macro avg       0.98      0.90      0.93    175202\n",
      "weighted avg       1.00      1.00      1.00    175202\n",
      "\n"
     ]
    }
   ],
   "source": [
    "# accuracy = accuracy_score(y, y_pred)\n",
    "# precision = precision_score(y, y_pred)\n",
    "# recall = recall_score(y, y_pred)\n",
    "# f1 = f1_score(y, y_pred)\n",
    "\n",
    "# print(f'Accuracy: {accuracy}')\n",
    "# print(f'Precision: {precision}')\n",
    "# print(f'Recall: {recall}')\n",
    "# print(f'F1 Score: {f1}')\n",
    "\n",
    "cm = confusion_matrix(y_test_numpy_arr, y_pred)\n",
    "print(cm)\n",
    "\n",
    "print(classification_report(y_test_numpy_arr, y_pred))"
   ]
  },
  {
   "cell_type": "code",
   "execution_count": 18,
   "id": "2e1f27b6-bff8-4293-b080-f4f92adbe3a8",
   "metadata": {},
   "outputs": [],
   "source": [
    "output_df = task1_df.drop(columns=[label])\n",
    "output_df[\"is_fraud\"] = y_pred\n",
    "output_df.to_csv('task1_test_output.csv', index=False) "
   ]
  },
  {
   "cell_type": "code",
   "execution_count": null,
   "id": "14a558df-52e5-476c-87a6-52067556cf9e",
   "metadata": {},
   "outputs": [],
   "source": []
  }
 ],
 "metadata": {
  "kernelspec": {
   "display_name": "Python 3 (ipykernel)",
   "language": "python",
   "name": "python3"
  },
  "language_info": {
   "codemirror_mode": {
    "name": "ipython",
    "version": 3
   },
   "file_extension": ".py",
   "mimetype": "text/x-python",
   "name": "python",
   "nbconvert_exporter": "python",
   "pygments_lexer": "ipython3",
   "version": "3.10.10"
  }
 },
 "nbformat": 4,
 "nbformat_minor": 5
}
