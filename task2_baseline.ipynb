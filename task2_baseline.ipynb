{
 "cells": [
  {
   "cell_type": "code",
   "execution_count": 1,
   "id": "460393aa-9a56-4c4d-9a9c-e61c72b9a3af",
   "metadata": {},
   "outputs": [],
   "source": [
    "import numpy as np\n",
    "import pandas as pd\n",
    "import torch\n",
    "from sklearn.metrics import classification_report, accuracy_score, confusion_matrix, precision_score, recall_score, f1_score, make_scorer\n",
    "import joblib\n",
    "import os\n",
    "os.environ[\"CUDA_VISIBLE_DEVICES\"] = \"1, 16, 25\""
   ]
  },
  {
   "cell_type": "code",
   "execution_count": 2,
   "id": "d4e5a66c-4933-4a25-a476-0fb82e74de70",
   "metadata": {},
   "outputs": [
    {
     "name": "stdout",
     "output_type": "stream",
     "text": [
      "GPU available\n"
     ]
    },
    {
     "data": {
      "text/plain": [
       "device(type='cuda')"
      ]
     },
     "execution_count": 2,
     "metadata": {},
     "output_type": "execute_result"
    }
   ],
   "source": [
    "device = torch.device('cuda' if torch.cuda.is_available() else 'cpu')\n",
    "if device.type == \"cuda\":\n",
    "    print('GPU available')\n",
    "else:\n",
    "    print('GPU not available')\n",
    "device"
   ]
  },
  {
   "cell_type": "code",
   "execution_count": 3,
   "id": "975e08f3-ef35-4c29-8d0a-b5b2e2125e15",
   "metadata": {},
   "outputs": [],
   "source": [
    "task2_test_set = \"610_ps4_test/testingT2HAR/har_test.csv\""
   ]
  },
  {
   "cell_type": "code",
   "execution_count": 4,
   "id": "7a5c2e5d-5569-4753-9d34-ed350e29d9ac",
   "metadata": {},
   "outputs": [],
   "source": [
    "# CONVERT DEV FILE INTO A DATAFRAME\n",
    "task2_df = pd.read_csv(task2_test_set, header=None)\n",
    "column_names = task2_df.columns\n",
    "label = column_names[-1]\n",
    "\n",
    "# Everything except the last element are features\n",
    "X = task2_df.drop(columns=[label])\n",
    "y = task2_df[label] \n",
    "\n",
    "# Make sure all columns are numeric\n",
    "X = X.apply(pd.to_numeric)\n",
    "\n",
    "# change the data structure from pandas to numpy \n",
    "X_numpy_arr = X.to_numpy()\n",
    "y_test_numpy_arr = y.to_numpy()"
   ]
  },
  {
   "cell_type": "code",
   "execution_count": 1,
   "id": "b71c04db-be33-4937-b445-7e0eaef83aa0",
   "metadata": {},
   "outputs": [],
   "source": [
    "# unique_classes = list(set(y_test_numpy_arr))\n",
    "# print(unique_classes)"
   ]
  },
  {
   "cell_type": "code",
   "execution_count": 11,
   "id": "11005961-0fe2-4ffd-9dcf-e87fd3287ce1",
   "metadata": {},
   "outputs": [
    {
     "name": "stdout",
     "output_type": "stream",
     "text": [
      "total: 432\n",
      "[0.23842592592592593, 0.004629629629629629, 0.1111111111111111, 0.1574074074074074, 0.04861111111111111, 0.034722222222222224, 0.023148148148148147, 0.006944444444444444, 0.03935185185185185, 0.05092592592592592, 0.2847222222222222]\n",
      "macro_avg_accuracy: 0.09090909090909091\n"
     ]
    }
   ],
   "source": [
    "unique_classes = ['Tennis', 'Jogging', 'Cycling', 'Football', 'JumpRope', 'WalkingDownstairs', 'Walking', 'Pushups', 'WalkingUpstairs', 'Swimming', 'Sitting']\n",
    "total_num_of_rows_in_test = len(y_test_numpy_arr)\n",
    "print(\"total:\", total_num_of_rows_in_test)\n",
    "\n",
    "naive_accuracies = []\n",
    "for class_name in unique_classes:\n",
    "    y_pred = [class_name] * total_num_of_rows_in_test\n",
    "    naive_accuracy = accuracy_score(y_test_numpy_arr, y_pred)\n",
    "    naive_accuracies.append(naive_accuracy)\n",
    "print(naive_accuracies)\n",
    "\n",
    "macro_avg_accuracy = sum(naive_accuracies) / len(naive_accuracies)\n",
    "print(\"macro_avg_accuracy:\", macro_avg_accuracy)"
   ]
  },
  {
   "cell_type": "code",
   "execution_count": 12,
   "id": "f7a43bf7-388a-4204-890d-b6692c8202bd",
   "metadata": {},
   "outputs": [],
   "source": [
    "# # CALCULATE accuracy, macro f1 score, and f1 score for fraud\n",
    "# y_pred = [\"Sitting\"] * total_num_of_rows_in_test\n",
    "# model_accuracy = accuracy_score(y_test_numpy_arr, y_pred)\n",
    "# print(\"Accuracy:\", model_accuracy)"
   ]
  },
  {
   "cell_type": "code",
   "execution_count": 22,
   "id": "603a6580-045f-4df8-8f12-0489ba579439",
   "metadata": {},
   "outputs": [
    {
     "name": "stdout",
     "output_type": "stream",
     "text": [
      "[0.3850467289719626, 0.009216589861751152, 0.2, 0.272, 0.09271523178807947, 0.06711409395973154, 0.04524886877828054, 0.013793103448275862, 0.0757238307349666, 0.09691629955947137, 0.44324324324324327]\n",
      "macro_avg_f1_score: 0.15463799912234205\n"
     ]
    }
   ],
   "source": [
    "naive_f1_scores = []\n",
    "for class_name in unique_classes:\n",
    "    y_pred = [class_name] * total_num_of_rows_in_test\n",
    "    naive_f1_score = f1_score(y_test_numpy_arr, y_pred, average=None, labels=[class_name])[0]\n",
    "    naive_f1_scores.append(naive_f1_score)\n",
    "\n",
    "print(naive_f1_scores)\n",
    "macro_avg_f1_score = sum(naive_f1_scores) / len(naive_f1_scores)\n",
    "print(\"macro_avg_f1_score:\", macro_avg_f1_score)"
   ]
  },
  {
   "cell_type": "code",
   "execution_count": 13,
   "id": "0a2a812c-bac0-4bb3-af1e-7fcc1796613a",
   "metadata": {},
   "outputs": [],
   "source": [
    "# macro_avg_f1_score = f1_score(y_test_numpy_arr, y_pred, average='macro')\n",
    "# print(\"Macro average F1 score:\", macro_avg_f1_score)"
   ]
  },
  {
   "cell_type": "code",
   "execution_count": 16,
   "id": "42b6f2ad-2108-457e-b200-9a5ad3ad5ee1",
   "metadata": {},
   "outputs": [],
   "source": [
    "# num_of_not_fraud = total_num_of_rows_in_test - num_of_fraud\n",
    "# print(\"amount of 0s:\", num_of_not_fraud)\n",
    "\n",
    "# # Check your math\n",
    "# foo = num_of_not_fraud + num_of_fraud\n",
    "# print(\"total:\", foo)"
   ]
  },
  {
   "cell_type": "code",
   "execution_count": 17,
   "id": "a6a86515-b2d8-4bd5-b65c-63ee3978143b",
   "metadata": {},
   "outputs": [],
   "source": [
    "# # n samples, out of which 𝑚 m belong to fraud \n",
    "# n = total_num_of_rows_in_test\n",
    "# m = num_of_fraud\n",
    "\n",
    "# baseline_accuracy = (n - m) / n\n",
    "# print(baseline_accuracy)\n",
    "# print(\"do the accuracies match?\", model_accuracy == baseline_accuracy)"
   ]
  },
  {
   "cell_type": "code",
   "execution_count": null,
   "id": "e4313e72-7f97-40e6-8a1d-7645e01160bc",
   "metadata": {},
   "outputs": [],
   "source": []
  }
 ],
 "metadata": {
  "kernelspec": {
   "display_name": "Python 3 (ipykernel)",
   "language": "python",
   "name": "python3"
  },
  "language_info": {
   "codemirror_mode": {
    "name": "ipython",
    "version": 3
   },
   "file_extension": ".py",
   "mimetype": "text/x-python",
   "name": "python",
   "nbconvert_exporter": "python",
   "pygments_lexer": "ipython3",
   "version": "3.10.10"
  }
 },
 "nbformat": 4,
 "nbformat_minor": 5
}
