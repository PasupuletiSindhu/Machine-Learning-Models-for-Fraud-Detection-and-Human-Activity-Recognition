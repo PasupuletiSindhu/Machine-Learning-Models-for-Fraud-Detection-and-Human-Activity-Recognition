{
 "cells": [
  {
   "cell_type": "code",
   "execution_count": 1,
   "id": "356e68e7-3178-433d-88aa-0131bb30d4cd",
   "metadata": {},
   "outputs": [],
   "source": [
    "import numpy as np\n",
    "import pandas as pd\n",
    "import torch\n",
    "from sklearn.metrics import classification_report, accuracy_score, confusion_matrix, precision_score, recall_score, f1_score, make_scorer\n",
    "import joblib\n",
    "import os\n",
    "os.environ[\"CUDA_VISIBLE_DEVICES\"] = \"1, 16, 25\""
   ]
  },
  {
   "cell_type": "code",
   "execution_count": 2,
   "id": "b00c4d89-e125-4203-a3c4-0b697f01e503",
   "metadata": {},
   "outputs": [
    {
     "name": "stdout",
     "output_type": "stream",
     "text": [
      "GPU available\n"
     ]
    },
    {
     "data": {
      "text/plain": [
       "device(type='cuda')"
      ]
     },
     "execution_count": 2,
     "metadata": {},
     "output_type": "execute_result"
    }
   ],
   "source": [
    "device = torch.device('cuda' if torch.cuda.is_available() else 'cpu')\n",
    "if device.type == \"cuda\":\n",
    "    print('GPU available')\n",
    "else:\n",
    "    print('GPU not available')\n",
    "device"
   ]
  },
  {
   "cell_type": "code",
   "execution_count": 3,
   "id": "0eb9df27-de4f-48d2-9b3f-b1d1170f2c1b",
   "metadata": {},
   "outputs": [],
   "source": [
    "task2_test_set = \"610_ps4_test/testingT2HAR/har_test.csv\"\n",
    "\n",
    "# task2_test_set = \"610_ps4_testing/testingT2HAR/har_test.csv\""
   ]
  },
  {
   "cell_type": "code",
   "execution_count": 14,
   "id": "52623693-904f-4066-857d-84b587bc7f72",
   "metadata": {},
   "outputs": [],
   "source": [
    "# CONVERT DEV FILE INTO A DATAFRAME\n",
    "task2_df = pd.read_csv(task2_test_set, header=None)\n",
    "column_names = task2_df.columns\n",
    "label = column_names[-1]\n",
    "\n",
    "# Everything except the last element are features\n",
    "X = task2_df.drop(columns=[label])\n",
    "y = task2_df[label] \n",
    "\n",
    "# Make sure all columns are numeric\n",
    "X = X.apply(pd.to_numeric)\n",
    "\n",
    "# change the data structure from pandas to numpy \n",
    "X_numpy_arr = X.to_numpy()\n",
    "y_numpy_arr = y.to_numpy()"
   ]
  },
  {
   "cell_type": "code",
   "execution_count": 5,
   "id": "a141e4d4-29ad-4ede-a8f3-f6c4fa690271",
   "metadata": {},
   "outputs": [],
   "source": [
    "# print(X)\n",
    "important_features = [63, 6, 64, 46, 15, 68, 101, 132, 110, 7, 24, 94, 9, 151, 161, 36, 98, 119, 12, 65, 79, 43, 138, 178, 141, 30, 134, 148, 66, 133, 34, 19, 77, 169]"
   ]
  },
  {
   "cell_type": "code",
   "execution_count": 6,
   "id": "63ae329e-a103-40cb-b4e2-87ab1bf60d96",
   "metadata": {},
   "outputs": [],
   "source": [
    "# Get the important feature columns only\n",
    "X_important_features = X[important_features]"
   ]
  },
  {
   "cell_type": "code",
   "execution_count": 7,
   "id": "02104090-7092-44dd-b2b6-406cae5989f8",
   "metadata": {},
   "outputs": [],
   "source": [
    "# change the data structure from pandas to numpy \n",
    "X_numpy_arr = X_important_features.to_numpy()\n",
    "y_test_numpy_arr = y.to_numpy()"
   ]
  },
  {
   "cell_type": "code",
   "execution_count": 8,
   "id": "8071b4f5-35ff-4b18-91e5-2aaf37246943",
   "metadata": {},
   "outputs": [],
   "source": [
    "# Load the saved model\n",
    "model_name = 'task2_randomforest_smote_balanced_rfecv_model.joblib'\n",
    "rf_loaded = joblib.load(model_name)"
   ]
  },
  {
   "cell_type": "code",
   "execution_count": 9,
   "id": "9f1a460b-f886-4a43-b45c-96fea8b9a296",
   "metadata": {},
   "outputs": [
    {
     "name": "stdout",
     "output_type": "stream",
     "text": [
      "Accuracy: 0.7962962962962963\n",
      "Macro average F1 score: 0.6468366756392473\n"
     ]
    }
   ],
   "source": [
    " # PREDICT\n",
    "y_pred = rf_loaded.predict(X_numpy_arr)\n",
    "\n",
    "# CALCULATE accuracy, macro f1 score, and f1 score for fraud\n",
    "model_accuracy = accuracy_score(y_test_numpy_arr, y_pred)\n",
    "macro_avg_f1_score = f1_score(y_test_numpy_arr, y_pred, average='macro')\n",
    "\n",
    "print(\"Accuracy:\", model_accuracy)\n",
    "print(\"Macro average F1 score:\", macro_avg_f1_score)"
   ]
  },
  {
   "cell_type": "code",
   "execution_count": 12,
   "id": "a8460767-2aed-4e14-9c80-c28c44c74f04",
   "metadata": {},
   "outputs": [
    {
     "name": "stdout",
     "output_type": "stream",
     "text": [
      "[[ 43   1   0   0   0   0   1   1   0   2   0]\n",
      " [  0  59   1   4   0   0   1   1   0   1   1]\n",
      " [  0   0   2   0   0   0   0   0   0   0   0]\n",
      " [  0   2   1  15   0   0   0   0   0   0   3]\n",
      " [  0   0   0   0   1   0   1   0   0   0   1]\n",
      " [  0   0   0   0   0 120   1   2   0   0   0]\n",
      " [  2   2   0   0   1   0  14   2   1   0   0]\n",
      " [  0  16   0   5   0   2   2  71   2   2   3]\n",
      " [  0   0   0   0   0   0   0   0   9   0   1]\n",
      " [  3   3   0   0   0   0   2   0   0   2   5]\n",
      " [  0   0   0   0   0   0   0   2   2   5   8]]\n",
      "                   precision    recall  f1-score   support\n",
      "\n",
      "          Cycling       0.90      0.90      0.90        48\n",
      "         Football       0.71      0.87      0.78        68\n",
      "          Jogging       0.50      1.00      0.67         2\n",
      "         JumpRope       0.62      0.71      0.67        21\n",
      "          Pushups       0.50      0.33      0.40         3\n",
      "          Sitting       0.98      0.98      0.98       123\n",
      "         Swimming       0.64      0.64      0.64        22\n",
      "           Tennis       0.90      0.69      0.78       103\n",
      "          Walking       0.64      0.90      0.75        10\n",
      "WalkingDownstairs       0.17      0.13      0.15        15\n",
      "  WalkingUpstairs       0.36      0.47      0.41        17\n",
      "\n",
      "         accuracy                           0.80       432\n",
      "        macro avg       0.63      0.69      0.65       432\n",
      "     weighted avg       0.81      0.80      0.80       432\n",
      "\n"
     ]
    }
   ],
   "source": [
    "# accuracy = accuracy_score(y, y_pred)\n",
    "# precision = precision_score(y, y_pred)\n",
    "# recall = recall_score(y, y_pred)\n",
    "# f1 = f1_score(y, y_pred)\n",
    "\n",
    "# print(f'Accuracy: {accuracy}')\n",
    "# print(f'Precision: {precision}')\n",
    "# print(f'Recall: {recall}')\n",
    "# print(f'F1 Score: {f1}')\n",
    "\n",
    "cm = confusion_matrix(y_test_numpy_arr, y_pred)\n",
    "print(cm)\n",
    "\n",
    "print(classification_report(y_test_numpy_arr, y_pred))"
   ]
  },
  {
   "cell_type": "code",
   "execution_count": 29,
   "id": "e6d1cb16-bff0-4100-8862-bbd7b343d629",
   "metadata": {},
   "outputs": [],
   "source": [
    "output_df = task2_df.drop(columns=[label])\n",
    "new_last_index = len(output_df.loc[0])\n",
    "output_df[new_last_index] = y_pred\n",
    "output_df.to_csv('task2_test_output.csv', header=False, index=False) "
   ]
  },
  {
   "cell_type": "code",
   "execution_count": null,
   "id": "e1f71689-11aa-4453-8dbd-12c9e2211c6d",
   "metadata": {},
   "outputs": [],
   "source": []
  }
 ],
 "metadata": {
  "kernelspec": {
   "display_name": "Python 3 (ipykernel)",
   "language": "python",
   "name": "python3"
  },
  "language_info": {
   "codemirror_mode": {
    "name": "ipython",
    "version": 3
   },
   "file_extension": ".py",
   "mimetype": "text/x-python",
   "name": "python",
   "nbconvert_exporter": "python",
   "pygments_lexer": "ipython3",
   "version": "3.10.10"
  }
 },
 "nbformat": 4,
 "nbformat_minor": 5
}
