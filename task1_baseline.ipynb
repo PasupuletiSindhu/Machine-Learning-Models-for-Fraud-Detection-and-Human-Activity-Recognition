{
 "cells": [
  {
   "cell_type": "code",
   "execution_count": 1,
   "id": "460393aa-9a56-4c4d-9a9c-e61c72b9a3af",
   "metadata": {},
   "outputs": [],
   "source": [
    "import numpy as np\n",
    "import pandas as pd\n",
    "import torch\n",
    "from sklearn.metrics import classification_report, accuracy_score, confusion_matrix, precision_score, recall_score, f1_score, make_scorer\n",
    "from sklearn.preprocessing import LabelEncoder\n",
    "import joblib\n",
    "import os\n",
    "os.environ[\"CUDA_VISIBLE_DEVICES\"] = \"1, 16, 25\""
   ]
  },
  {
   "cell_type": "code",
   "execution_count": 2,
   "id": "d4e5a66c-4933-4a25-a476-0fb82e74de70",
   "metadata": {},
   "outputs": [
    {
     "name": "stdout",
     "output_type": "stream",
     "text": [
      "GPU available\n"
     ]
    },
    {
     "data": {
      "text/plain": [
       "device(type='cuda')"
      ]
     },
     "execution_count": 2,
     "metadata": {},
     "output_type": "execute_result"
    }
   ],
   "source": [
    "device = torch.device('cuda' if torch.cuda.is_available() else 'cpu')\n",
    "if device.type == \"cuda\":\n",
    "    print('GPU available')\n",
    "else:\n",
    "    print('GPU not available')\n",
    "device"
   ]
  },
  {
   "cell_type": "code",
   "execution_count": 3,
   "id": "975e08f3-ef35-4c29-8d0a-b5b2e2125e15",
   "metadata": {},
   "outputs": [],
   "source": [
    "task1_test_set = \"610_ps4_test/testingT1FD/cct_test.csv\""
   ]
  },
  {
   "cell_type": "code",
   "execution_count": 4,
   "id": "7a5c2e5d-5569-4753-9d34-ed350e29d9ac",
   "metadata": {},
   "outputs": [],
   "source": [
    "# CONVERT DEV FILE INTO A DATAFRAME\n",
    "task1_df = pd.read_csv(task1_test_set)\n",
    "\n",
    "# Everything except the last element are features\n",
    "column_names = task1_df.columns\n",
    "label = column_names[-1]\n",
    "X = task1_df.drop(columns=[label])\n",
    "y = task1_df[label] \n",
    "\n",
    "# change the data structure from pandas to numpy \n",
    "X_numpy_arr = X.to_numpy()\n",
    "y_test_numpy_arr = y.to_numpy()"
   ]
  },
  {
   "cell_type": "code",
   "execution_count": 21,
   "id": "f7a43bf7-388a-4204-890d-b6692c8202bd",
   "metadata": {},
   "outputs": [
    {
     "name": "stdout",
     "output_type": "stream",
     "text": [
      "Accuracy: 0.9946176413511262\n",
      "f1_score_for_fraud: 0.0\n"
     ]
    }
   ],
   "source": [
    "# We know the majority will be not_fraud, 0\n",
    "total_num_of_rows_in_test = len(y_test_numpy_arr)\n",
    "y_pred = [0] * total_num_of_rows_in_test\n",
    "\n",
    "# CALCULATE accuracy, macro f1 score, and f1 score for fraud\n",
    "model_accuracy = accuracy_score(y_test_numpy_arr, y_pred)\n",
    "f1_score_for_fraud = f1_score(y_test_numpy_arr, y_pred, pos_label=1, average='binary')\n",
    "\n",
    "print(\"Accuracy:\", model_accuracy)\n",
    "print(\"f1_score_for_fraud:\", f1_score_for_fraud)"
   ]
  },
  {
   "cell_type": "code",
   "execution_count": 23,
   "id": "e2f141a5-b153-4ff3-93e0-6097cb6aeed0",
   "metadata": {},
   "outputs": [
    {
     "name": "stdout",
     "output_type": "stream",
     "text": [
      "macro_avg_f1_score: 0.5040043232983096\n"
     ]
    }
   ],
   "source": [
    "naive_f1_scores = []\n",
    "for class_name in [0, 1]:\n",
    "    y_new_pred = [class_name] * total_num_of_rows_in_test\n",
    "    naive_f1_score = f1_score(y_test_numpy_arr, y_new_pred, average=None, labels=[class_name])[0]\n",
    "    naive_f1_scores.append(naive_f1_score)\n",
    "\n",
    "macro_avg_f1_score = sum(naive_f1_scores) / len(naive_f1_scores)\n",
    "print(\"macro_avg_f1_score:\", macro_avg_f1_score)"
   ]
  },
  {
   "cell_type": "code",
   "execution_count": 8,
   "id": "42b6f2ad-2108-457e-b200-9a5ad3ad5ee1",
   "metadata": {},
   "outputs": [
    {
     "name": "stdout",
     "output_type": "stream",
     "text": [
      "total: 175202\n",
      "amount of 1s: 943\n",
      "amount of 0s: 174259\n",
      "total: 175202\n"
     ]
    }
   ],
   "source": [
    "num_of_fraud = 0\n",
    "for i, label in enumerate(y_test_numpy_arr):\n",
    "    if label == 1:\n",
    "        # print(f\"{i}: {label}\")\n",
    "        num_of_fraud += 1\n",
    "print(\"total:\", total_num_of_rows_in_test)\n",
    "print(f\"amount of 1s: {num_of_fraud}\")\n",
    "\n",
    "num_of_not_fraud = total_num_of_rows_in_test - num_of_fraud\n",
    "print(\"amount of 0s:\", num_of_not_fraud)\n",
    "\n",
    "# Check your math\n",
    "foo = num_of_not_fraud + num_of_fraud\n",
    "print(\"total:\", foo)"
   ]
  },
  {
   "cell_type": "code",
   "execution_count": 12,
   "id": "a6a86515-b2d8-4bd5-b65c-63ee3978143b",
   "metadata": {},
   "outputs": [
    {
     "name": "stdout",
     "output_type": "stream",
     "text": [
      "0.9946176413511262\n",
      "do the accuracies match? True\n"
     ]
    }
   ],
   "source": [
    "# n samples, out of which 𝑚 m belong to fraud \n",
    "n = total_num_of_rows_in_test\n",
    "m = num_of_fraud\n",
    "\n",
    "baseline_accuracy = (n - m) / n\n",
    "print(baseline_accuracy)\n",
    "print(\"do the accuracies match?\", model_accuracy == baseline_accuracy)"
   ]
  },
  {
   "cell_type": "code",
   "execution_count": null,
   "id": "e4313e72-7f97-40e6-8a1d-7645e01160bc",
   "metadata": {},
   "outputs": [],
   "source": []
  }
 ],
 "metadata": {
  "kernelspec": {
   "display_name": "Python 3 (ipykernel)",
   "language": "python",
   "name": "python3"
  },
  "language_info": {
   "codemirror_mode": {
    "name": "ipython",
    "version": 3
   },
   "file_extension": ".py",
   "mimetype": "text/x-python",
   "name": "python",
   "nbconvert_exporter": "python",
   "pygments_lexer": "ipython3",
   "version": "3.10.10"
  }
 },
 "nbformat": 4,
 "nbformat_minor": 5
}
